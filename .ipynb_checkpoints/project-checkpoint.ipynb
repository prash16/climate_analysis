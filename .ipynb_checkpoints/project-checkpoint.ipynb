{
 "cells": [
  {
   "cell_type": "markdown",
   "metadata": {},
   "source": [
    "### Climate Model Simulation Crashes Data Set "
   ]
  },
  {
   "cell_type": "code",
   "execution_count": 10,
   "metadata": {
    "collapsed": true
   },
   "outputs": [],
   "source": [
    "import os\n",
    "import pickle\n",
    "import numpy as np\n",
    "import pandas as pd\n",
    "import numpy.linalg as npla\n",
    "import matplotlib.pyplot as plt\n",
    "import seaborn as sns\n",
    "from sklearn.tree import DecisionTreeClassifier\n",
    "from sklearn.ensemble import RandomForestClassifier\n",
    "from sklearn.neighbors import KNeighborsClassifier\n",
    "from collections import deque\n",
    "from sklearn.ensemble import RandomForestClassifier as RFC\n",
    "from sklearn.feature_selection import RFE\n",
    "from sklearn.linear_model import Ridge\n",
    "from sklearn.neighbors import KNeighborsClassifier as KNC\n",
    "from sklearn.decomposition import PCA\n",
    "from sklearn.preprocessing import StandardScaler\n",
    "from sklearn.linear_model import LinearRegression, Ridge, Lasso, ElasticNet ,LogisticRegression\n",
    "from sklearn.metrics import accuracy_score, log_loss, mean_squared_error, zero_one_loss\n",
    "from sklearn.model_selection import train_test_split, GridSearchCV, RandomizedSearchCV, cross_val_score,GridSearchCV, RandomizedSearchCV, cross_val_score\n",
    "%matplotlib inline"
   ]
  },
  {
   "cell_type": "code",
   "execution_count": 96,
   "metadata": {},
   "outputs": [
    {
     "name": "stdout",
     "output_type": "stream",
     "text": [
      "The rpy2.ipython extension is already loaded. To reload it, use:\n",
      "  %reload_ext rpy2.ipython\n"
     ]
    }
   ],
   "source": [
    "# loading R \n",
    "%load_ext rpy2.ipython"
   ]
  },
  {
   "cell_type": "code",
   "execution_count": 23,
   "metadata": {
    "collapsed": true
   },
   "outputs": [],
   "source": [
    "%%R\n",
    "# Reading the data set \n",
    "library(data.table)\n",
    "dataset<-read.table(\"https://archive.ics.uci.edu/ml/machine-learning-databases/00252/pop_failures.dat\", \n",
    "           header=TRUE)\n",
    "# writing the data set \n",
    "write.csv(dataset, file = \"climate.csv\")"
   ]
  },
  {
   "cell_type": "code",
   "execution_count": 85,
   "metadata": {
    "collapsed": true
   },
   "outputs": [],
   "source": [
    "#reading the dataset \n",
    "\n",
    "climate_data=pd.read_csv('climate.csv')\n",
    "X = climate_data.iloc[:,2:20].values\n",
    "y = climate_data['outcome'].values\n",
    "\n",
    "# Splitting the dataset in 25% train and test \n",
    "\n",
    "X_train, X_test, y_train, y_test = train_test_split(X, y, test_size=0.25)"
   ]
  },
  {
   "cell_type": "code",
   "execution_count": 86,
   "metadata": {},
   "outputs": [
    {
     "name": "stdout",
     "output_type": "stream",
     "text": [
      "(540, 18)\n",
      "(540,)\n"
     ]
    }
   ],
   "source": [
    "print(X.shape)\n",
    "print(y.shape)"
   ]
  },
  {
   "cell_type": "code",
   "execution_count": 87,
   "metadata": {},
   "outputs": [
    {
     "data": {
      "text/html": [
       "<div>\n",
       "<style>\n",
       "    .dataframe thead tr:only-child th {\n",
       "        text-align: right;\n",
       "    }\n",
       "\n",
       "    .dataframe thead th {\n",
       "        text-align: left;\n",
       "    }\n",
       "\n",
       "    .dataframe tbody tr th {\n",
       "        vertical-align: top;\n",
       "    }\n",
       "</style>\n",
       "<table border=\"1\" class=\"dataframe\">\n",
       "  <thead>\n",
       "    <tr style=\"text-align: right;\">\n",
       "      <th></th>\n",
       "      <th>Unnamed: 0</th>\n",
       "      <th>Study</th>\n",
       "      <th>Run</th>\n",
       "      <th>vconst_corr</th>\n",
       "      <th>vconst_2</th>\n",
       "      <th>vconst_3</th>\n",
       "      <th>vconst_4</th>\n",
       "      <th>vconst_5</th>\n",
       "      <th>vconst_7</th>\n",
       "      <th>ah_corr</th>\n",
       "      <th>...</th>\n",
       "      <th>efficiency_factor</th>\n",
       "      <th>tidal_mix_max</th>\n",
       "      <th>vertical_decay_scale</th>\n",
       "      <th>convect_corr</th>\n",
       "      <th>bckgrnd_vdc1</th>\n",
       "      <th>bckgrnd_vdc_ban</th>\n",
       "      <th>bckgrnd_vdc_eq</th>\n",
       "      <th>bckgrnd_vdc_psim</th>\n",
       "      <th>Prandtl</th>\n",
       "      <th>outcome</th>\n",
       "    </tr>\n",
       "  </thead>\n",
       "  <tbody>\n",
       "    <tr>\n",
       "      <th>0</th>\n",
       "      <td>1</td>\n",
       "      <td>1</td>\n",
       "      <td>1</td>\n",
       "      <td>0.859036</td>\n",
       "      <td>0.927825</td>\n",
       "      <td>0.252866</td>\n",
       "      <td>0.298838</td>\n",
       "      <td>0.170521</td>\n",
       "      <td>0.735936</td>\n",
       "      <td>0.428325</td>\n",
       "      <td>...</td>\n",
       "      <td>0.245675</td>\n",
       "      <td>0.104226</td>\n",
       "      <td>0.869091</td>\n",
       "      <td>0.997518</td>\n",
       "      <td>0.448620</td>\n",
       "      <td>0.307522</td>\n",
       "      <td>0.858310</td>\n",
       "      <td>0.796997</td>\n",
       "      <td>0.869893</td>\n",
       "      <td>0</td>\n",
       "    </tr>\n",
       "    <tr>\n",
       "      <th>1</th>\n",
       "      <td>2</td>\n",
       "      <td>1</td>\n",
       "      <td>2</td>\n",
       "      <td>0.606041</td>\n",
       "      <td>0.457728</td>\n",
       "      <td>0.359448</td>\n",
       "      <td>0.306957</td>\n",
       "      <td>0.843331</td>\n",
       "      <td>0.934851</td>\n",
       "      <td>0.444572</td>\n",
       "      <td>...</td>\n",
       "      <td>0.616870</td>\n",
       "      <td>0.975786</td>\n",
       "      <td>0.914344</td>\n",
       "      <td>0.845247</td>\n",
       "      <td>0.864152</td>\n",
       "      <td>0.346713</td>\n",
       "      <td>0.356573</td>\n",
       "      <td>0.438447</td>\n",
       "      <td>0.512256</td>\n",
       "      <td>1</td>\n",
       "    </tr>\n",
       "    <tr>\n",
       "      <th>2</th>\n",
       "      <td>3</td>\n",
       "      <td>1</td>\n",
       "      <td>3</td>\n",
       "      <td>0.997600</td>\n",
       "      <td>0.373238</td>\n",
       "      <td>0.517399</td>\n",
       "      <td>0.504993</td>\n",
       "      <td>0.618903</td>\n",
       "      <td>0.605571</td>\n",
       "      <td>0.746225</td>\n",
       "      <td>...</td>\n",
       "      <td>0.679355</td>\n",
       "      <td>0.803413</td>\n",
       "      <td>0.643995</td>\n",
       "      <td>0.718441</td>\n",
       "      <td>0.924775</td>\n",
       "      <td>0.315371</td>\n",
       "      <td>0.250642</td>\n",
       "      <td>0.285636</td>\n",
       "      <td>0.365858</td>\n",
       "      <td>1</td>\n",
       "    </tr>\n",
       "    <tr>\n",
       "      <th>3</th>\n",
       "      <td>4</td>\n",
       "      <td>1</td>\n",
       "      <td>4</td>\n",
       "      <td>0.783408</td>\n",
       "      <td>0.104055</td>\n",
       "      <td>0.197533</td>\n",
       "      <td>0.421837</td>\n",
       "      <td>0.742056</td>\n",
       "      <td>0.490828</td>\n",
       "      <td>0.005525</td>\n",
       "      <td>...</td>\n",
       "      <td>0.471463</td>\n",
       "      <td>0.597879</td>\n",
       "      <td>0.761659</td>\n",
       "      <td>0.362751</td>\n",
       "      <td>0.912819</td>\n",
       "      <td>0.977971</td>\n",
       "      <td>0.845921</td>\n",
       "      <td>0.699431</td>\n",
       "      <td>0.475987</td>\n",
       "      <td>1</td>\n",
       "    </tr>\n",
       "    <tr>\n",
       "      <th>4</th>\n",
       "      <td>5</td>\n",
       "      <td>1</td>\n",
       "      <td>5</td>\n",
       "      <td>0.406250</td>\n",
       "      <td>0.513199</td>\n",
       "      <td>0.061812</td>\n",
       "      <td>0.635837</td>\n",
       "      <td>0.844798</td>\n",
       "      <td>0.441502</td>\n",
       "      <td>0.191926</td>\n",
       "      <td>...</td>\n",
       "      <td>0.551543</td>\n",
       "      <td>0.743877</td>\n",
       "      <td>0.312349</td>\n",
       "      <td>0.650223</td>\n",
       "      <td>0.522261</td>\n",
       "      <td>0.043545</td>\n",
       "      <td>0.376660</td>\n",
       "      <td>0.280098</td>\n",
       "      <td>0.132283</td>\n",
       "      <td>1</td>\n",
       "    </tr>\n",
       "  </tbody>\n",
       "</table>\n",
       "<p>5 rows × 22 columns</p>\n",
       "</div>"
      ],
      "text/plain": [
       "   Unnamed: 0  Study  Run  vconst_corr  vconst_2  vconst_3  vconst_4  \\\n",
       "0           1      1    1     0.859036  0.927825  0.252866  0.298838   \n",
       "1           2      1    2     0.606041  0.457728  0.359448  0.306957   \n",
       "2           3      1    3     0.997600  0.373238  0.517399  0.504993   \n",
       "3           4      1    4     0.783408  0.104055  0.197533  0.421837   \n",
       "4           5      1    5     0.406250  0.513199  0.061812  0.635837   \n",
       "\n",
       "   vconst_5  vconst_7   ah_corr   ...     efficiency_factor  tidal_mix_max  \\\n",
       "0  0.170521  0.735936  0.428325   ...              0.245675       0.104226   \n",
       "1  0.843331  0.934851  0.444572   ...              0.616870       0.975786   \n",
       "2  0.618903  0.605571  0.746225   ...              0.679355       0.803413   \n",
       "3  0.742056  0.490828  0.005525   ...              0.471463       0.597879   \n",
       "4  0.844798  0.441502  0.191926   ...              0.551543       0.743877   \n",
       "\n",
       "   vertical_decay_scale  convect_corr  bckgrnd_vdc1  bckgrnd_vdc_ban  \\\n",
       "0              0.869091      0.997518      0.448620         0.307522   \n",
       "1              0.914344      0.845247      0.864152         0.346713   \n",
       "2              0.643995      0.718441      0.924775         0.315371   \n",
       "3              0.761659      0.362751      0.912819         0.977971   \n",
       "4              0.312349      0.650223      0.522261         0.043545   \n",
       "\n",
       "   bckgrnd_vdc_eq  bckgrnd_vdc_psim   Prandtl  outcome  \n",
       "0        0.858310          0.796997  0.869893        0  \n",
       "1        0.356573          0.438447  0.512256        1  \n",
       "2        0.250642          0.285636  0.365858        1  \n",
       "3        0.845921          0.699431  0.475987        1  \n",
       "4        0.376660          0.280098  0.132283        1  \n",
       "\n",
       "[5 rows x 22 columns]"
      ]
     },
     "execution_count": 87,
     "metadata": {},
     "output_type": "execute_result"
    }
   ],
   "source": [
    "climate_data.head()"
   ]
  },
  {
   "cell_type": "markdown",
   "metadata": {},
   "source": [
    "#### Some initial data analysis "
   ]
  },
  {
   "cell_type": "code",
   "execution_count": 88,
   "metadata": {},
   "outputs": [
    {
     "data": {
      "text/plain": [
       "494"
      ]
     },
     "execution_count": 88,
     "metadata": {},
     "output_type": "execute_result"
    }
   ],
   "source": [
    "climate_data['outcome'].sum()"
   ]
  },
  {
   "cell_type": "code",
   "execution_count": 89,
   "metadata": {},
   "outputs": [
    {
     "data": {
      "text/html": [
       "<div>\n",
       "<style>\n",
       "    .dataframe thead tr:only-child th {\n",
       "        text-align: right;\n",
       "    }\n",
       "\n",
       "    .dataframe thead th {\n",
       "        text-align: left;\n",
       "    }\n",
       "\n",
       "    .dataframe tbody tr th {\n",
       "        vertical-align: top;\n",
       "    }\n",
       "</style>\n",
       "<table border=\"1\" class=\"dataframe\">\n",
       "  <thead>\n",
       "    <tr style=\"text-align: right;\">\n",
       "      <th></th>\n",
       "      <th>Unnamed: 0</th>\n",
       "      <th>Study</th>\n",
       "      <th>Run</th>\n",
       "      <th>vconst_corr</th>\n",
       "      <th>vconst_2</th>\n",
       "      <th>vconst_3</th>\n",
       "      <th>vconst_4</th>\n",
       "      <th>vconst_5</th>\n",
       "      <th>vconst_7</th>\n",
       "      <th>ah_corr</th>\n",
       "      <th>...</th>\n",
       "      <th>efficiency_factor</th>\n",
       "      <th>tidal_mix_max</th>\n",
       "      <th>vertical_decay_scale</th>\n",
       "      <th>convect_corr</th>\n",
       "      <th>bckgrnd_vdc1</th>\n",
       "      <th>bckgrnd_vdc_ban</th>\n",
       "      <th>bckgrnd_vdc_eq</th>\n",
       "      <th>bckgrnd_vdc_psim</th>\n",
       "      <th>Prandtl</th>\n",
       "      <th>outcome</th>\n",
       "    </tr>\n",
       "  </thead>\n",
       "  <tbody>\n",
       "    <tr>\n",
       "      <th>count</th>\n",
       "      <td>540.000000</td>\n",
       "      <td>540.000000</td>\n",
       "      <td>540.000000</td>\n",
       "      <td>540.000000</td>\n",
       "      <td>540.000000</td>\n",
       "      <td>540.000000</td>\n",
       "      <td>540.000000</td>\n",
       "      <td>540.000000</td>\n",
       "      <td>540.000000</td>\n",
       "      <td>540.000000</td>\n",
       "      <td>...</td>\n",
       "      <td>540.000000</td>\n",
       "      <td>540.000000</td>\n",
       "      <td>540.000000</td>\n",
       "      <td>540.000000</td>\n",
       "      <td>540.000000</td>\n",
       "      <td>540.000000</td>\n",
       "      <td>540.000000</td>\n",
       "      <td>540.000000</td>\n",
       "      <td>540.000000</td>\n",
       "      <td>540.000000</td>\n",
       "    </tr>\n",
       "    <tr>\n",
       "      <th>mean</th>\n",
       "      <td>270.500000</td>\n",
       "      <td>2.000000</td>\n",
       "      <td>90.500000</td>\n",
       "      <td>0.500026</td>\n",
       "      <td>0.500097</td>\n",
       "      <td>0.500027</td>\n",
       "      <td>0.500119</td>\n",
       "      <td>0.500001</td>\n",
       "      <td>0.499913</td>\n",
       "      <td>0.500059</td>\n",
       "      <td>...</td>\n",
       "      <td>0.500111</td>\n",
       "      <td>0.499984</td>\n",
       "      <td>0.500032</td>\n",
       "      <td>0.499933</td>\n",
       "      <td>0.499944</td>\n",
       "      <td>0.499946</td>\n",
       "      <td>0.500044</td>\n",
       "      <td>0.500020</td>\n",
       "      <td>0.500021</td>\n",
       "      <td>0.914815</td>\n",
       "    </tr>\n",
       "    <tr>\n",
       "      <th>std</th>\n",
       "      <td>156.028843</td>\n",
       "      <td>0.817254</td>\n",
       "      <td>52.008901</td>\n",
       "      <td>0.288939</td>\n",
       "      <td>0.288922</td>\n",
       "      <td>0.289067</td>\n",
       "      <td>0.288993</td>\n",
       "      <td>0.288827</td>\n",
       "      <td>0.288852</td>\n",
       "      <td>0.289010</td>\n",
       "      <td>...</td>\n",
       "      <td>0.288966</td>\n",
       "      <td>0.289127</td>\n",
       "      <td>0.289014</td>\n",
       "      <td>0.288822</td>\n",
       "      <td>0.288949</td>\n",
       "      <td>0.288923</td>\n",
       "      <td>0.288813</td>\n",
       "      <td>0.288936</td>\n",
       "      <td>0.289013</td>\n",
       "      <td>0.279416</td>\n",
       "    </tr>\n",
       "    <tr>\n",
       "      <th>min</th>\n",
       "      <td>1.000000</td>\n",
       "      <td>1.000000</td>\n",
       "      <td>1.000000</td>\n",
       "      <td>0.000414</td>\n",
       "      <td>0.001922</td>\n",
       "      <td>0.001181</td>\n",
       "      <td>0.001972</td>\n",
       "      <td>0.000858</td>\n",
       "      <td>0.000476</td>\n",
       "      <td>0.004590</td>\n",
       "      <td>...</td>\n",
       "      <td>0.002015</td>\n",
       "      <td>0.000419</td>\n",
       "      <td>0.001188</td>\n",
       "      <td>0.001312</td>\n",
       "      <td>0.002509</td>\n",
       "      <td>0.000732</td>\n",
       "      <td>0.000891</td>\n",
       "      <td>0.000219</td>\n",
       "      <td>0.000263</td>\n",
       "      <td>0.000000</td>\n",
       "    </tr>\n",
       "    <tr>\n",
       "      <th>25%</th>\n",
       "      <td>135.750000</td>\n",
       "      <td>1.000000</td>\n",
       "      <td>45.750000</td>\n",
       "      <td>0.249650</td>\n",
       "      <td>0.251597</td>\n",
       "      <td>0.251540</td>\n",
       "      <td>0.250158</td>\n",
       "      <td>0.250630</td>\n",
       "      <td>0.251325</td>\n",
       "      <td>0.253048</td>\n",
       "      <td>...</td>\n",
       "      <td>0.250758</td>\n",
       "      <td>0.251676</td>\n",
       "      <td>0.249669</td>\n",
       "      <td>0.249988</td>\n",
       "      <td>0.249586</td>\n",
       "      <td>0.249974</td>\n",
       "      <td>0.250412</td>\n",
       "      <td>0.252739</td>\n",
       "      <td>0.249723</td>\n",
       "      <td>1.000000</td>\n",
       "    </tr>\n",
       "    <tr>\n",
       "      <th>50%</th>\n",
       "      <td>270.500000</td>\n",
       "      <td>2.000000</td>\n",
       "      <td>90.500000</td>\n",
       "      <td>0.499998</td>\n",
       "      <td>0.499595</td>\n",
       "      <td>0.500104</td>\n",
       "      <td>0.500456</td>\n",
       "      <td>0.500903</td>\n",
       "      <td>0.499174</td>\n",
       "      <td>0.499070</td>\n",
       "      <td>...</td>\n",
       "      <td>0.500393</td>\n",
       "      <td>0.500322</td>\n",
       "      <td>0.500151</td>\n",
       "      <td>0.500625</td>\n",
       "      <td>0.499080</td>\n",
       "      <td>0.499959</td>\n",
       "      <td>0.500384</td>\n",
       "      <td>0.498955</td>\n",
       "      <td>0.499431</td>\n",
       "      <td>1.000000</td>\n",
       "    </tr>\n",
       "    <tr>\n",
       "      <th>75%</th>\n",
       "      <td>405.250000</td>\n",
       "      <td>3.000000</td>\n",
       "      <td>135.250000</td>\n",
       "      <td>0.750042</td>\n",
       "      <td>0.750011</td>\n",
       "      <td>0.749180</td>\n",
       "      <td>0.750348</td>\n",
       "      <td>0.748988</td>\n",
       "      <td>0.748166</td>\n",
       "      <td>0.750109</td>\n",
       "      <td>...</td>\n",
       "      <td>0.749447</td>\n",
       "      <td>0.749346</td>\n",
       "      <td>0.749164</td>\n",
       "      <td>0.749569</td>\n",
       "      <td>0.750012</td>\n",
       "      <td>0.747978</td>\n",
       "      <td>0.749256</td>\n",
       "      <td>0.748539</td>\n",
       "      <td>0.749792</td>\n",
       "      <td>1.000000</td>\n",
       "    </tr>\n",
       "    <tr>\n",
       "      <th>max</th>\n",
       "      <td>540.000000</td>\n",
       "      <td>3.000000</td>\n",
       "      <td>180.000000</td>\n",
       "      <td>0.999194</td>\n",
       "      <td>0.998815</td>\n",
       "      <td>0.998263</td>\n",
       "      <td>0.997673</td>\n",
       "      <td>0.998944</td>\n",
       "      <td>0.997142</td>\n",
       "      <td>0.998930</td>\n",
       "      <td>...</td>\n",
       "      <td>0.999536</td>\n",
       "      <td>0.999942</td>\n",
       "      <td>0.997718</td>\n",
       "      <td>0.997518</td>\n",
       "      <td>0.999795</td>\n",
       "      <td>0.999155</td>\n",
       "      <td>0.997265</td>\n",
       "      <td>0.999306</td>\n",
       "      <td>0.999655</td>\n",
       "      <td>1.000000</td>\n",
       "    </tr>\n",
       "  </tbody>\n",
       "</table>\n",
       "<p>8 rows × 22 columns</p>\n",
       "</div>"
      ],
      "text/plain": [
       "       Unnamed: 0       Study         Run  vconst_corr    vconst_2  \\\n",
       "count  540.000000  540.000000  540.000000   540.000000  540.000000   \n",
       "mean   270.500000    2.000000   90.500000     0.500026    0.500097   \n",
       "std    156.028843    0.817254   52.008901     0.288939    0.288922   \n",
       "min      1.000000    1.000000    1.000000     0.000414    0.001922   \n",
       "25%    135.750000    1.000000   45.750000     0.249650    0.251597   \n",
       "50%    270.500000    2.000000   90.500000     0.499998    0.499595   \n",
       "75%    405.250000    3.000000  135.250000     0.750042    0.750011   \n",
       "max    540.000000    3.000000  180.000000     0.999194    0.998815   \n",
       "\n",
       "         vconst_3    vconst_4    vconst_5    vconst_7     ah_corr     ...      \\\n",
       "count  540.000000  540.000000  540.000000  540.000000  540.000000     ...       \n",
       "mean     0.500027    0.500119    0.500001    0.499913    0.500059     ...       \n",
       "std      0.289067    0.288993    0.288827    0.288852    0.289010     ...       \n",
       "min      0.001181    0.001972    0.000858    0.000476    0.004590     ...       \n",
       "25%      0.251540    0.250158    0.250630    0.251325    0.253048     ...       \n",
       "50%      0.500104    0.500456    0.500903    0.499174    0.499070     ...       \n",
       "75%      0.749180    0.750348    0.748988    0.748166    0.750109     ...       \n",
       "max      0.998263    0.997673    0.998944    0.997142    0.998930     ...       \n",
       "\n",
       "       efficiency_factor  tidal_mix_max  vertical_decay_scale  convect_corr  \\\n",
       "count         540.000000     540.000000            540.000000    540.000000   \n",
       "mean            0.500111       0.499984              0.500032      0.499933   \n",
       "std             0.288966       0.289127              0.289014      0.288822   \n",
       "min             0.002015       0.000419              0.001188      0.001312   \n",
       "25%             0.250758       0.251676              0.249669      0.249988   \n",
       "50%             0.500393       0.500322              0.500151      0.500625   \n",
       "75%             0.749447       0.749346              0.749164      0.749569   \n",
       "max             0.999536       0.999942              0.997718      0.997518   \n",
       "\n",
       "       bckgrnd_vdc1  bckgrnd_vdc_ban  bckgrnd_vdc_eq  bckgrnd_vdc_psim  \\\n",
       "count    540.000000       540.000000      540.000000        540.000000   \n",
       "mean       0.499944         0.499946        0.500044          0.500020   \n",
       "std        0.288949         0.288923        0.288813          0.288936   \n",
       "min        0.002509         0.000732        0.000891          0.000219   \n",
       "25%        0.249586         0.249974        0.250412          0.252739   \n",
       "50%        0.499080         0.499959        0.500384          0.498955   \n",
       "75%        0.750012         0.747978        0.749256          0.748539   \n",
       "max        0.999795         0.999155        0.997265          0.999306   \n",
       "\n",
       "          Prandtl     outcome  \n",
       "count  540.000000  540.000000  \n",
       "mean     0.500021    0.914815  \n",
       "std      0.289013    0.279416  \n",
       "min      0.000263    0.000000  \n",
       "25%      0.249723    1.000000  \n",
       "50%      0.499431    1.000000  \n",
       "75%      0.749792    1.000000  \n",
       "max      0.999655    1.000000  \n",
       "\n",
       "[8 rows x 22 columns]"
      ]
     },
     "execution_count": 89,
     "metadata": {},
     "output_type": "execute_result"
    }
   ],
   "source": [
    "climate_data.describe()"
   ]
  },
  {
   "cell_type": "code",
   "execution_count": 90,
   "metadata": {},
   "outputs": [
    {
     "data": {
      "text/plain": [
       "Index(['Unnamed: 0', 'Study', 'Run', 'vconst_corr', 'vconst_2', 'vconst_3',\n",
       "       'vconst_4', 'vconst_5', 'vconst_7', 'ah_corr', 'ah_bolus', 'slm_corr',\n",
       "       'efficiency_factor', 'tidal_mix_max', 'vertical_decay_scale',\n",
       "       'convect_corr', 'bckgrnd_vdc1', 'bckgrnd_vdc_ban', 'bckgrnd_vdc_eq',\n",
       "       'bckgrnd_vdc_psim', 'Prandtl', 'outcome'],\n",
       "      dtype='object')"
      ]
     },
     "execution_count": 90,
     "metadata": {},
     "output_type": "execute_result"
    }
   ],
   "source": [
    "climate_data.keys()"
   ]
  },
  {
   "cell_type": "code",
   "execution_count": 91,
   "metadata": {
    "collapsed": true
   },
   "outputs": [],
   "source": [
    "featurenames=[\"vconst_corr\",\"vconst_2\",\"vconst_3\",\"vconst_4\",\"vconst_5\",\"vconst_7\",\"ah_corr\",\"ah_bolus\",\n",
    "             \"slm_corr\",\"efficiency_factor\",\"tidal_mix_max\",\"vertical_decay_scale\",\"convect_corr\",\"bckgrnd_vdc1\",\n",
    "              \"bckgrnd_vdc_ban\",\"bckgrnd_vdc_eq\",\"bckgrnd_vdc_psim\",\"Prandtl\"]\n",
    "           "
   ]
  },
  {
   "cell_type": "markdown",
   "metadata": {},
   "source": [
    "#### Step 1                                        Visualize the data \n"
   ]
  },
  {
   "cell_type": "code",
   "execution_count": 92,
   "metadata": {},
   "outputs": [],
   "source": [
    "scaler = StandardScaler()\n",
    "scaler.fit(X)\n",
    "scaled_data = scaler.transform(X)"
   ]
  },
  {
   "cell_type": "code",
   "execution_count": 93,
   "metadata": {},
   "outputs": [
    {
     "data": {
      "text/plain": [
       "PCA(copy=True, iterated_power='auto', n_components=2, random_state=None,\n",
       "  svd_solver='auto', tol=0.0, whiten=False)"
      ]
     },
     "execution_count": 93,
     "metadata": {},
     "output_type": "execute_result"
    }
   ],
   "source": [
    "pca = PCA(n_components=2)\n",
    "pca.fit(scaled_data)"
   ]
  },
  {
   "cell_type": "code",
   "execution_count": 94,
   "metadata": {
    "collapsed": true
   },
   "outputs": [],
   "source": [
    "x_pca = pca.transform(scaled_data)"
   ]
  },
  {
   "cell_type": "code",
   "execution_count": 95,
   "metadata": {},
   "outputs": [
    {
     "data": {
      "text/plain": [
       "(540, 18)"
      ]
     },
     "execution_count": 95,
     "metadata": {},
     "output_type": "execute_result"
    }
   ],
   "source": [
    "scaled_data.shape"
   ]
  },
  {
   "cell_type": "code",
   "execution_count": 96,
   "metadata": {},
   "outputs": [
    {
     "data": {
      "text/plain": [
       "(540, 2)"
      ]
     },
     "execution_count": 96,
     "metadata": {},
     "output_type": "execute_result"
    }
   ],
   "source": [
    "x_pca.shape"
   ]
  },
  {
   "cell_type": "markdown",
   "metadata": {},
   "source": [
    "I've ' reduced 30 dimensions to just 2! Let's plot these two dimensions out!"
   ]
  },
  {
   "cell_type": "code",
   "execution_count": 97,
   "metadata": {},
   "outputs": [
    {
     "data": {
      "text/plain": [
       "Text(0,0.5,'Second Principal Component')"
      ]
     },
     "execution_count": 97,
     "metadata": {},
     "output_type": "execute_result"
    },
    {
     "data": {
      "image/png": "[encoded data removed]",
      "text/plain": [
       "<matplotlib.figure.Figure at 0x119305940>"
      ]
     },
     "metadata": {},
     "output_type": "display_data"
    }
   ],
   "source": [
    "plt.figure(figsize=(10,10))\n",
    "plt.scatter(x_pca[:,0],x_pca[:,1],c=climate_data['outcome'],cmap='plasma')\n",
    "plt.xlabel('First principal component')\n",
    "plt.ylabel('Second Principal Component')"
   ]
  },
  {
   "cell_type": "markdown",
   "metadata": {},
   "source": [
    "#### Not clear sepration between two variables "
   ]
  },
  {
   "cell_type": "code",
   "execution_count": 98,
   "metadata": {},
   "outputs": [
    {
     "data": {
      "text/plain": [
       "<matplotlib.axes._subplots.AxesSubplot at 0x1177ba4e0>"
      ]
     },
     "execution_count": 98,
     "metadata": {},
     "output_type": "execute_result"
    },
    {
     "data": {
      "image/png": "[encoded data removed]",
      "text/plain": [
       "<matplotlib.figure.Figure at 0x1190d9828>"
      ]
     },
     "metadata": {},
     "output_type": "display_data"
    }
   ],
   "source": [
    "## correlation \n",
    "df1 = pd.DataFrame(X)\n",
    "\n",
    "corr = df1.corr()\n",
    "plt.figure(figsize=(10,10))\n",
    "sns.heatmap(corr, mask=np.zeros_like(corr, dtype=np.bool), cmap=sns.diverging_palette(220, 10, as_cmap=True),\n",
    "            square=True)"
   ]
  },
  {
   "cell_type": "markdown",
   "metadata": {},
   "source": [
    "####  If we look at figure above there is no coorelation between two variables, it means predictors are good for predictions"
   ]
  },
  {
   "cell_type": "code",
   "execution_count": null,
   "metadata": {
    "collapsed": true
   },
   "outputs": [],
   "source": [
    "#vconst_corr,vconst_2,vconst_3,vconst_4,vconst_5,vconst_7,\n",
    "#ah_corr,ah_bolus,slm_corr,efficiency_factor,tidal_mix_max,\n",
    "#vertical_decay_scale,convect_corr,bckgrnd_vdc1,bckgrnd_vdc_ban,bckgrnd_vdc_eq,bckgrnd_vdc_psim,Prandtl,outcome"
   ]
  },
  {
   "cell_type": "markdown",
   "metadata": {},
   "source": [
    "#### Step 2 Model 1  DT classifier \n"
   ]
  },
  {
   "cell_type": "code",
   "execution_count": 99,
   "metadata": {},
   "outputs": [
    {
     "name": "stdout",
     "output_type": "stream",
     "text": [
      "Test Accuracy for decision tree for climate data  = 0.888889\n"
     ]
    }
   ],
   "source": [
    "## Decision Trees for cancer\n",
    "\n",
    "#We'll start just by training a single decision tree.\n",
    "\n",
    "error_rate_testing_sciktlearn_cancer_decisiontree=[]\n",
    "\n",
    "from sklearn.tree import DecisionTreeClassifier\n",
    "dtree = DecisionTreeClassifier()\n",
    "dtree.fit(X_train,y_train)\n",
    "\n",
    "## Prediction and Evaluation \n",
    "\n",
    "#Let's evaluate our decision tree.\n",
    "predictions_dt_climate = dtree.predict(X_test)\n",
    "\n",
    "Test_error_climate_dt=zero_one_loss(y_test,predictions_dt_climate)\n",
    "Accuracy_test_climate_dt=1-Test_error_climate_dt\n",
    "\n",
    "#print('Test error for decision tree for climate data  = %f' % Test_error_climate_dt)\n",
    "print('Test Accuracy for decision tree for climate data  = %f' % Accuracy_test_climate_dt)"
   ]
  },
  {
   "cell_type": "code",
   "execution_count": 100,
   "metadata": {},
   "outputs": [
    {
     "data": {
      "text/plain": [
       "(135,)"
      ]
     },
     "execution_count": 100,
     "metadata": {},
     "output_type": "execute_result"
    }
   ],
   "source": [
    "predictions_dt_climate.shape"
   ]
  },
  {
   "cell_type": "markdown",
   "metadata": {},
   "source": [
    "#### Step 3 Model 2 random Forest "
   ]
  },
  {
   "cell_type": "code",
   "execution_count": 101,
   "metadata": {},
   "outputs": [
    {
     "name": "stdout",
     "output_type": "stream",
     "text": [
      "Accuracy = 0.925926\n"
     ]
    }
   ],
   "source": [
    "# random forest model \n",
    "\n",
    "rfc = RandomForestClassifier(n_estimators=100)\n",
    "rfc.fit(X_train, y_train)\n",
    "\n",
    "rfc_pred = rfc.predict(X_test)\n",
    "smse = sum(rfc_pred != y_test) / len(y_test)\n",
    "\n",
    "Accuracy = 1-smse\n",
    "\n",
    "#print('Test error = %f' % smse)\n",
    "print('Accuracy = %f' % Accuracy)"
   ]
  },
  {
   "cell_type": "code",
   "execution_count": 102,
   "metadata": {},
   "outputs": [
    {
     "data": {
      "text/plain": [
       "0.92592592592592593"
      ]
     },
     "execution_count": 102,
     "metadata": {},
     "output_type": "execute_result"
    }
   ],
   "source": [
    "rfc.score(X_test,y_test)"
   ]
  },
  {
   "cell_type": "markdown",
   "metadata": {},
   "source": [
    "#### Step 4 Model 3 Cross Validation "
   ]
  },
  {
   "cell_type": "code",
   "execution_count": 103,
   "metadata": {},
   "outputs": [
    {
     "data": {
      "text/html": [
       "<div>\n",
       "<style>\n",
       "    .dataframe thead tr:only-child th {\n",
       "        text-align: right;\n",
       "    }\n",
       "\n",
       "    .dataframe thead th {\n",
       "        text-align: left;\n",
       "    }\n",
       "\n",
       "    .dataframe tbody tr th {\n",
       "        vertical-align: top;\n",
       "    }\n",
       "</style>\n",
       "<table border=\"1\" class=\"dataframe\">\n",
       "  <thead>\n",
       "    <tr style=\"text-align: right;\">\n",
       "      <th></th>\n",
       "      <th>n_estimators</th>\n",
       "      <th>max_depth</th>\n",
       "      <th>max_features</th>\n",
       "      <th>mean_score</th>\n",
       "    </tr>\n",
       "  </thead>\n",
       "  <tbody>\n",
       "    <tr>\n",
       "      <th>23</th>\n",
       "      <td>100.0</td>\n",
       "      <td>10.0</td>\n",
       "      <td>15.0</td>\n",
       "      <td>0.949999</td>\n",
       "    </tr>\n",
       "    <tr>\n",
       "      <th>46</th>\n",
       "      <td>200.0</td>\n",
       "      <td>10.0</td>\n",
       "      <td>12.0</td>\n",
       "      <td>0.948181</td>\n",
       "    </tr>\n",
       "    <tr>\n",
       "      <th>68</th>\n",
       "      <td>1000.0</td>\n",
       "      <td>10.0</td>\n",
       "      <td>8.0</td>\n",
       "      <td>0.948181</td>\n",
       "    </tr>\n",
       "    <tr>\n",
       "      <th>8</th>\n",
       "      <td>100.0</td>\n",
       "      <td>5.0</td>\n",
       "      <td>8.0</td>\n",
       "      <td>0.948181</td>\n",
       "    </tr>\n",
       "    <tr>\n",
       "      <th>38</th>\n",
       "      <td>200.0</td>\n",
       "      <td>8.0</td>\n",
       "      <td>8.0</td>\n",
       "      <td>0.946346</td>\n",
       "    </tr>\n",
       "  </tbody>\n",
       "</table>\n",
       "</div>"
      ],
      "text/plain": [
       "    n_estimators  max_depth  max_features  mean_score\n",
       "23         100.0       10.0          15.0    0.949999\n",
       "46         200.0       10.0          12.0    0.948181\n",
       "68        1000.0       10.0           8.0    0.948181\n",
       "8          100.0        5.0           8.0    0.948181\n",
       "38         200.0        8.0           8.0    0.946346"
      ]
     },
     "execution_count": 103,
     "metadata": {},
     "output_type": "execute_result"
    }
   ],
   "source": [
    "n_estimators = [100,200,1000]\n",
    "max_depth = [2,5,8,10]\n",
    "max_features = [1,5,8,10,12,15]\n",
    "results = pd.DataFrame(columns=['n_estimators','max_depth','max_features','mean_score'])\n",
    "\n",
    "for n in n_estimators:\n",
    "    for m in max_depth:\n",
    "        for f in max_features:\n",
    "            clf = RFC(n_estimators=n,max_depth=m,max_features=f,criterion='entropy')\n",
    "            scores = cross_val_score(clf,X,y,cv=5)\n",
    "            results = results.append({'n_estimators':n,'max_depth':m,'max_features':f,'mean_score':scores.mean()},ignore_index=True)\n",
    "    \n",
    "results.sort_values(by='mean_score',ascending=False).head(5)"
   ]
  },
  {
   "cell_type": "markdown",
   "metadata": {},
   "source": [
    "#### Step 5 Model 5 logistic no penealty "
   ]
  },
  {
   "cell_type": "code",
   "execution_count": 104,
   "metadata": {},
   "outputs": [
    {
     "name": "stdout",
     "output_type": "stream",
     "text": [
      "No regularization: no of features:  18\n",
      "No regularization: error:  0.0740740740741\n"
     ]
    }
   ],
   "source": [
    "# Model creation with no regularization \n",
    "# with all features \n",
    "\n",
    "# model creation\n",
    "basic_model = LogisticRegression()\n",
    "\n",
    "# fitting the model \n",
    "basic_model.fit(X_train,y_train)\n",
    "\n",
    "\n",
    "# coefficient calculation and error calculation \n",
    "\n",
    "sf_basic_model = np.sum(basic_model.coef_/max(basic_model.coef_) >= 1e-6)\n",
    "v_error_basic_model = np.mean(basic_model.predict(X_test) != y_test)\n",
    "\n",
    "print('No regularization: no of features: ', sf_basic_model)\n",
    "print('No regularization: error: ', v_error_basic_model)"
   ]
  },
  {
   "cell_type": "markdown",
   "metadata": {},
   "source": [
    "#### Step 6 Model 6 logistic  L1"
   ]
  },
  {
   "cell_type": "code",
   "execution_count": 105,
   "metadata": {},
   "outputs": [
    {
     "name": "stdout",
     "output_type": "stream",
     "text": [
      " L1 regularization: no of features  13\n",
      " L1 regularization: error  0.948148148148\n"
     ]
    },
    {
     "name": "stderr",
     "output_type": "stream",
     "text": [
      "/anaconda/lib/python3.6/site-packages/ipykernel_launcher.py:11: RuntimeWarning: invalid value encountered in true_divide\n",
      "  # This is added back by InteractiveShellApp.init_path()\n",
      "/anaconda/lib/python3.6/site-packages/ipykernel_launcher.py:11: RuntimeWarning: invalid value encountered in greater_equal\n",
      "  # This is added back by InteractiveShellApp.init_path()\n"
     ]
    }
   ],
   "source": [
    "#penalty l1\n",
    "model_l1 = LogisticRegression(penalty = 'l1')\n",
    "\n",
    "# Fitting the model \n",
    "model_l1.fit(X_train,y_train)\n",
    "\n",
    "pred = model_l1.predict(X_test)\n",
    "\n",
    "# coefficient calculation and error calculation \n",
    "\n",
    "sf_model = np.sum(model_l1.coef_/max(model_l1.coef_) >= 1e-6)\n",
    "v_error = np.mean(model_l1.predict(X_test) != y_test)\n",
    "\n",
    "accuracy = np.mean(pred==y_test)\n",
    "# printing the features, and error\n",
    "\n",
    "print(' L1 regularization: no of features ', sf_model)\n",
    "print(' L1 regularization: error ', accuracy)"
   ]
  },
  {
   "cell_type": "code",
   "execution_count": 106,
   "metadata": {},
   "outputs": [
    {
     "data": {
      "text/plain": [
       "array([[  8.05042384e-04,  -4.89372507e+00,  -4.29905531e+00,\n",
       "          0.00000000e+00,   6.84316021e-01,   5.14713584e-01,\n",
       "          4.77820750e-01,   1.49367418e-01,   1.01971731e+00,\n",
       "          7.43510945e-01,   0.00000000e+00,   0.00000000e+00,\n",
       "          0.00000000e+00,  -2.30986122e+00,   2.61239224e+00,\n",
       "          0.00000000e+00,   8.14785411e-01,   1.58808121e+00]])"
      ]
     },
     "execution_count": 106,
     "metadata": {},
     "output_type": "execute_result"
    }
   ],
   "source": [
    "model_l1.coef_"
   ]
  },
  {
   "cell_type": "code",
   "execution_count": 149,
   "metadata": {},
   "outputs": [],
   "source": [
    "coeff=model_l1.coef_\n",
    "coeff1=coeff.transpose()"
   ]
  },
  {
   "cell_type": "code",
   "execution_count": 150,
   "metadata": {},
   "outputs": [
    {
     "data": {
      "text/plain": [
       "['vconst_corr',\n",
       " 'vconst_2',\n",
       " 'vconst_3',\n",
       " 'vconst_4',\n",
       " 'vconst_5',\n",
       " 'vconst_7',\n",
       " 'ah_corr',\n",
       " 'ah_bolus',\n",
       " 'slm_corr',\n",
       " 'efficiency_factor',\n",
       " 'tidal_mix_max',\n",
       " 'vertical_decay_scale',\n",
       " 'convect_corr',\n",
       " 'bckgrnd_vdc1',\n",
       " 'bckgrnd_vdc_ban',\n",
       " 'bckgrnd_vdc_eq',\n",
       " 'bckgrnd_vdc_psim',\n",
       " 'Prandtl']"
      ]
     },
     "execution_count": 150,
     "metadata": {},
     "output_type": "execute_result"
    }
   ],
   "source": [
    "featurenames"
   ]
  },
  {
   "cell_type": "code",
   "execution_count": 151,
   "metadata": {},
   "outputs": [
    {
     "data": {
      "text/html": [
       "<div>\n",
       "<style>\n",
       "    .dataframe thead tr:only-child th {\n",
       "        text-align: right;\n",
       "    }\n",
       "\n",
       "    .dataframe thead th {\n",
       "        text-align: left;\n",
       "    }\n",
       "\n",
       "    .dataframe tbody tr th {\n",
       "        vertical-align: top;\n",
       "    }\n",
       "</style>\n",
       "<table border=\"1\" class=\"dataframe\">\n",
       "  <thead>\n",
       "    <tr style=\"text-align: right;\">\n",
       "      <th></th>\n",
       "      <th>0</th>\n",
       "      <th>0</th>\n",
       "    </tr>\n",
       "  </thead>\n",
       "  <tbody>\n",
       "    <tr>\n",
       "      <th>0</th>\n",
       "      <td>0.000805</td>\n",
       "      <td>vconst_corr</td>\n",
       "    </tr>\n",
       "    <tr>\n",
       "      <th>1</th>\n",
       "      <td>-4.893725</td>\n",
       "      <td>vconst_2</td>\n",
       "    </tr>\n",
       "    <tr>\n",
       "      <th>2</th>\n",
       "      <td>-4.299055</td>\n",
       "      <td>vconst_3</td>\n",
       "    </tr>\n",
       "    <tr>\n",
       "      <th>3</th>\n",
       "      <td>0.000000</td>\n",
       "      <td>vconst_4</td>\n",
       "    </tr>\n",
       "    <tr>\n",
       "      <th>4</th>\n",
       "      <td>0.684316</td>\n",
       "      <td>vconst_5</td>\n",
       "    </tr>\n",
       "    <tr>\n",
       "      <th>5</th>\n",
       "      <td>0.514714</td>\n",
       "      <td>vconst_7</td>\n",
       "    </tr>\n",
       "    <tr>\n",
       "      <th>6</th>\n",
       "      <td>0.477821</td>\n",
       "      <td>ah_corr</td>\n",
       "    </tr>\n",
       "    <tr>\n",
       "      <th>7</th>\n",
       "      <td>0.149367</td>\n",
       "      <td>ah_bolus</td>\n",
       "    </tr>\n",
       "    <tr>\n",
       "      <th>8</th>\n",
       "      <td>1.019717</td>\n",
       "      <td>slm_corr</td>\n",
       "    </tr>\n",
       "    <tr>\n",
       "      <th>9</th>\n",
       "      <td>0.743511</td>\n",
       "      <td>efficiency_factor</td>\n",
       "    </tr>\n",
       "    <tr>\n",
       "      <th>10</th>\n",
       "      <td>0.000000</td>\n",
       "      <td>tidal_mix_max</td>\n",
       "    </tr>\n",
       "    <tr>\n",
       "      <th>11</th>\n",
       "      <td>0.000000</td>\n",
       "      <td>vertical_decay_scale</td>\n",
       "    </tr>\n",
       "    <tr>\n",
       "      <th>12</th>\n",
       "      <td>0.000000</td>\n",
       "      <td>convect_corr</td>\n",
       "    </tr>\n",
       "    <tr>\n",
       "      <th>13</th>\n",
       "      <td>-2.309861</td>\n",
       "      <td>bckgrnd_vdc1</td>\n",
       "    </tr>\n",
       "    <tr>\n",
       "      <th>14</th>\n",
       "      <td>2.612392</td>\n",
       "      <td>bckgrnd_vdc_ban</td>\n",
       "    </tr>\n",
       "    <tr>\n",
       "      <th>15</th>\n",
       "      <td>0.000000</td>\n",
       "      <td>bckgrnd_vdc_eq</td>\n",
       "    </tr>\n",
       "    <tr>\n",
       "      <th>16</th>\n",
       "      <td>0.814785</td>\n",
       "      <td>bckgrnd_vdc_psim</td>\n",
       "    </tr>\n",
       "    <tr>\n",
       "      <th>17</th>\n",
       "      <td>1.588081</td>\n",
       "      <td>Prandtl</td>\n",
       "    </tr>\n",
       "  </tbody>\n",
       "</table>\n",
       "</div>"
      ],
      "text/plain": [
       "           0                     0\n",
       "0   0.000805           vconst_corr\n",
       "1  -4.893725              vconst_2\n",
       "2  -4.299055              vconst_3\n",
       "3   0.000000              vconst_4\n",
       "4   0.684316              vconst_5\n",
       "5   0.514714              vconst_7\n",
       "6   0.477821               ah_corr\n",
       "7   0.149367              ah_bolus\n",
       "8   1.019717              slm_corr\n",
       "9   0.743511     efficiency_factor\n",
       "10  0.000000         tidal_mix_max\n",
       "11  0.000000  vertical_decay_scale\n",
       "12  0.000000          convect_corr\n",
       "13 -2.309861          bckgrnd_vdc1\n",
       "14  2.612392       bckgrnd_vdc_ban\n",
       "15  0.000000        bckgrnd_vdc_eq\n",
       "16  0.814785      bckgrnd_vdc_psim\n",
       "17  1.588081               Prandtl"
      ]
     },
     "execution_count": 151,
     "metadata": {},
     "output_type": "execute_result"
    }
   ],
   "source": [
    "\n",
    "df1 = pd.DataFrame(coeff1)\n",
    "df2 = pd.DataFrame(featurenames)\n",
    "\n",
    "df3=pd.concat([df1,df2],axis=1)\n",
    "\n",
    "# Joining in x1 and x2 \n",
    "\n",
    "df3[[0]]"
   ]
  },
  {
   "cell_type": "markdown",
   "metadata": {},
   "source": [
    "#### Step 7 Model 7 logistic  L2"
   ]
  },
  {
   "cell_type": "code",
   "execution_count": 144,
   "metadata": {},
   "outputs": [
    {
     "name": "stdout",
     "output_type": "stream",
     "text": [
      " L2 regularization: no of features  17\n",
      " L2 regularization: error  0.925925925926\n"
     ]
    },
    {
     "name": "stderr",
     "output_type": "stream",
     "text": [
      "/anaconda/lib/python3.6/site-packages/ipykernel_launcher.py:12: RuntimeWarning: divide by zero encountered in true_divide\n",
      "  if sys.path[0] == '':\n"
     ]
    }
   ],
   "source": [
    "#penalty l2\n",
    "\n",
    "model_l2 = LogisticRegression(penalty = 'l2')\n",
    "\n",
    "# Fitting the model \n",
    "model_l2.fit(X_train,y_train)\n",
    "\n",
    "pred = model_l2.predict(X_test)\n",
    "\n",
    "# coefficient calculation and error calculation \n",
    "\n",
    "sf_model = np.sum(model_l2.coef_/max(model_l1.coef_) >= 1e-6)\n",
    "v_error = np.mean(model_l2.predict(X_test) != y_test)\n",
    "\n",
    "accuracy = np.mean(pred==y_test)\n",
    "# printing the features, and error\n",
    "\n",
    "print(' L2 regularization: no of features ', sf_model)\n",
    "print(' L2 regularization: error ', accuracy)"
   ]
  },
  {
   "cell_type": "code",
   "execution_count": 153,
   "metadata": {},
   "outputs": [
    {
     "data": {
      "text/html": [
       "<div>\n",
       "<style>\n",
       "    .dataframe thead tr:only-child th {\n",
       "        text-align: right;\n",
       "    }\n",
       "\n",
       "    .dataframe thead th {\n",
       "        text-align: left;\n",
       "    }\n",
       "\n",
       "    .dataframe tbody tr th {\n",
       "        vertical-align: top;\n",
       "    }\n",
       "</style>\n",
       "<table border=\"1\" class=\"dataframe\">\n",
       "  <thead>\n",
       "    <tr style=\"text-align: right;\">\n",
       "      <th></th>\n",
       "      <th>0</th>\n",
       "      <th>0</th>\n",
       "    </tr>\n",
       "  </thead>\n",
       "  <tbody>\n",
       "    <tr>\n",
       "      <th>0</th>\n",
       "      <td>0.002506</td>\n",
       "      <td>vconst_corr</td>\n",
       "    </tr>\n",
       "    <tr>\n",
       "      <th>1</th>\n",
       "      <td>-2.984888</td>\n",
       "      <td>vconst_2</td>\n",
       "    </tr>\n",
       "    <tr>\n",
       "      <th>2</th>\n",
       "      <td>-2.583999</td>\n",
       "      <td>vconst_3</td>\n",
       "    </tr>\n",
       "    <tr>\n",
       "      <th>3</th>\n",
       "      <td>0.419280</td>\n",
       "      <td>vconst_4</td>\n",
       "    </tr>\n",
       "    <tr>\n",
       "      <th>4</th>\n",
       "      <td>0.716327</td>\n",
       "      <td>vconst_5</td>\n",
       "    </tr>\n",
       "    <tr>\n",
       "      <th>5</th>\n",
       "      <td>0.715729</td>\n",
       "      <td>vconst_7</td>\n",
       "    </tr>\n",
       "    <tr>\n",
       "      <th>6</th>\n",
       "      <td>0.634149</td>\n",
       "      <td>ah_corr</td>\n",
       "    </tr>\n",
       "    <tr>\n",
       "      <th>7</th>\n",
       "      <td>0.512507</td>\n",
       "      <td>ah_bolus</td>\n",
       "    </tr>\n",
       "    <tr>\n",
       "      <th>8</th>\n",
       "      <td>1.107829</td>\n",
       "      <td>slm_corr</td>\n",
       "    </tr>\n",
       "    <tr>\n",
       "      <th>9</th>\n",
       "      <td>0.844871</td>\n",
       "      <td>efficiency_factor</td>\n",
       "    </tr>\n",
       "    <tr>\n",
       "      <th>10</th>\n",
       "      <td>-0.283915</td>\n",
       "      <td>tidal_mix_max</td>\n",
       "    </tr>\n",
       "    <tr>\n",
       "      <th>11</th>\n",
       "      <td>0.103362</td>\n",
       "      <td>vertical_decay_scale</td>\n",
       "    </tr>\n",
       "    <tr>\n",
       "      <th>12</th>\n",
       "      <td>0.135799</td>\n",
       "      <td>convect_corr</td>\n",
       "    </tr>\n",
       "    <tr>\n",
       "      <th>13</th>\n",
       "      <td>-1.643141</td>\n",
       "      <td>bckgrnd_vdc1</td>\n",
       "    </tr>\n",
       "    <tr>\n",
       "      <th>14</th>\n",
       "      <td>2.025191</td>\n",
       "      <td>bckgrnd_vdc_ban</td>\n",
       "    </tr>\n",
       "    <tr>\n",
       "      <th>15</th>\n",
       "      <td>0.301949</td>\n",
       "      <td>bckgrnd_vdc_eq</td>\n",
       "    </tr>\n",
       "    <tr>\n",
       "      <th>16</th>\n",
       "      <td>0.963841</td>\n",
       "      <td>bckgrnd_vdc_psim</td>\n",
       "    </tr>\n",
       "    <tr>\n",
       "      <th>17</th>\n",
       "      <td>1.275590</td>\n",
       "      <td>Prandtl</td>\n",
       "    </tr>\n",
       "  </tbody>\n",
       "</table>\n",
       "</div>"
      ],
      "text/plain": [
       "           0                     0\n",
       "0   0.002506           vconst_corr\n",
       "1  -2.984888              vconst_2\n",
       "2  -2.583999              vconst_3\n",
       "3   0.419280              vconst_4\n",
       "4   0.716327              vconst_5\n",
       "5   0.715729              vconst_7\n",
       "6   0.634149               ah_corr\n",
       "7   0.512507              ah_bolus\n",
       "8   1.107829              slm_corr\n",
       "9   0.844871     efficiency_factor\n",
       "10 -0.283915         tidal_mix_max\n",
       "11  0.103362  vertical_decay_scale\n",
       "12  0.135799          convect_corr\n",
       "13 -1.643141          bckgrnd_vdc1\n",
       "14  2.025191       bckgrnd_vdc_ban\n",
       "15  0.301949        bckgrnd_vdc_eq\n",
       "16  0.963841      bckgrnd_vdc_psim\n",
       "17  1.275590               Prandtl"
      ]
     },
     "execution_count": 153,
     "metadata": {},
     "output_type": "execute_result"
    }
   ],
   "source": [
    "\n",
    "\n",
    "coeff=model_l2.coef_\n",
    "coeff1=coeff.transpose()\n",
    "df1 = pd.DataFrame(coeff1)\n",
    "df2 = pd.DataFrame(featurenames)\n",
    "\n",
    "df3=pd.concat([df1,df2],axis=1)\n",
    "\n",
    "# Joining in x1 and x2 \n",
    "\n",
    "df3[[0]]"
   ]
  },
  {
   "cell_type": "markdown",
   "metadata": {},
   "source": [
    " #### Step 8  Model  8 logistic  L1 Backward "
   ]
  },
  {
   "cell_type": "code",
   "execution_count": null,
   "metadata": {
    "collapsed": true
   },
   "outputs": [],
   "source": [
    "#### Ref : https://github.com/ubcs3/2017-Fall/blob/master/notes-2017-10-13/notes-2017-10-13-ideas.ipynb"
   ]
  },
  {
   "cell_type": "code",
   "execution_count": 146,
   "metadata": {},
   "outputs": [
    {
     "data": {
      "image/png": "[encoded data removed]",
      "text/plain": [
       "<matplotlib.figure.Figure at 0x1190a46d8>"
      ]
     },
     "metadata": {},
     "output_type": "display_data"
    }
   ],
   "source": [
    "\n",
    "# make an empty list to hold train error, and one to hold test error\n",
    "trainer_back_L1 = list()\n",
    "valerr_back_L1 = list()\n",
    "\n",
    "# make an array of the number of features to sweep through\n",
    "feats = np.arange(1,17)\n",
    "\n",
    "# loop over the features, and fit the model each time\n",
    "# also calculate train and test error\n",
    "for f in feats:\n",
    "    rfe = RFE(estimator = Ridge(), n_features_to_select = f)\n",
    "    rfe.fit(X_train, y_train)\n",
    "    Xtrain_sel = X_train[:,rfe.support_]\n",
    "    Xvalidate_sel = X_test[:,rfe.support_]\n",
    "    \n",
    "    model_back_l1 = LogisticRegression(penalty = 'l1')\n",
    "\n",
    "    # Fitting the model \n",
    "    model_back_l1.fit(Xtrain_sel,y_train)\n",
    "\n",
    "# coefficient calculation and error calculation \n",
    "\n",
    "    #sf_model_l2 = np.sum(model_l2.coef_/max(model_l2.coef_) >= 1e-6)\n",
    "    v_error_l1 = np.mean(model_back_l1.predict(Xvalidate_sel) != y_test)\n",
    "    train_error_l1 = np.mean(model_back_l1.predict(Xtrain_sel) != y_train)\n",
    "    \n",
    "    \n",
    "    trainer_back_L1.append(train_error_l1)\n",
    "    valerr_back_L1.append(v_error_l1)\n",
    "      \n",
    "    \n",
    "       # plot validation loss\n",
    "plt.figure(figsize=(10,8))\n",
    "plt.plot(np.arange(1,17), trainer_back_L1, label=\"train\")\n",
    "plt.plot(np.arange(1,17), valerr_back_L1, label=\"test\")\n",
    "plt.xlabel(\"feats\")\n",
    "plt.ylabel(\"error\")\n",
    "plt.legend()\n",
    "plt.show()\n"
   ]
  },
  {
   "cell_type": "code",
   "execution_count": 113,
   "metadata": {},
   "outputs": [
    {
     "data": {
      "text/html": [
       "<div>\n",
       "<style>\n",
       "    .dataframe thead tr:only-child th {\n",
       "        text-align: right;\n",
       "    }\n",
       "\n",
       "    .dataframe thead th {\n",
       "        text-align: left;\n",
       "    }\n",
       "\n",
       "    .dataframe tbody tr th {\n",
       "        vertical-align: top;\n",
       "    }\n",
       "</style>\n",
       "<table border=\"1\" class=\"dataframe\">\n",
       "  <thead>\n",
       "    <tr style=\"text-align: right;\">\n",
       "      <th></th>\n",
       "      <th>Features</th>\n",
       "      <th>Test Error</th>\n",
       "      <th>Train Error</th>\n",
       "    </tr>\n",
       "  </thead>\n",
       "  <tbody>\n",
       "    <tr>\n",
       "      <th>5</th>\n",
       "      <td>6</td>\n",
       "      <td>0.051852</td>\n",
       "      <td>0.037037</td>\n",
       "    </tr>\n",
       "    <tr>\n",
       "      <th>10</th>\n",
       "      <td>11</td>\n",
       "      <td>0.051852</td>\n",
       "      <td>0.039506</td>\n",
       "    </tr>\n",
       "    <tr>\n",
       "      <th>11</th>\n",
       "      <td>12</td>\n",
       "      <td>0.051852</td>\n",
       "      <td>0.039506</td>\n",
       "    </tr>\n",
       "    <tr>\n",
       "      <th>12</th>\n",
       "      <td>13</td>\n",
       "      <td>0.051852</td>\n",
       "      <td>0.037037</td>\n",
       "    </tr>\n",
       "    <tr>\n",
       "      <th>13</th>\n",
       "      <td>14</td>\n",
       "      <td>0.051852</td>\n",
       "      <td>0.037037</td>\n",
       "    </tr>\n",
       "  </tbody>\n",
       "</table>\n",
       "</div>"
      ],
      "text/plain": [
       "    Features  Test Error  Train Error\n",
       "5          6    0.051852     0.037037\n",
       "10        11    0.051852     0.039506\n",
       "11        12    0.051852     0.039506\n",
       "12        13    0.051852     0.037037\n",
       "13        14    0.051852     0.037037"
      ]
     },
     "execution_count": 113,
     "metadata": {},
     "output_type": "execute_result"
    }
   ],
   "source": [
    "# List \n",
    "list_backward_L1= {'Features':feats,'Train Error': trainer_back_L1,\"Test Error\":valerr_back_L1}\n",
    "list_backward_L1 = pd.DataFrame(list_backward_L1)\n",
    "list_backward_L1.sort_values(by='Test Error').head(5)"
   ]
  },
  {
   "cell_type": "code",
   "execution_count": 147,
   "metadata": {},
   "outputs": [
    {
     "data": {
      "text/plain": [
       "array([[-4.90945213, -4.32577685,  0.        ,  0.6870328 ,  0.50580457,\n",
       "         0.49370858,  0.14283437,  0.99331278,  0.73668028,  0.        ,\n",
       "         0.        ,  0.        , -2.32207144,  2.60170272,  0.81761834,\n",
       "         1.56402363]])"
      ]
     },
     "execution_count": 147,
     "metadata": {},
     "output_type": "execute_result"
    }
   ],
   "source": [
    "model_back_l1.coef_"
   ]
  },
  {
   "cell_type": "markdown",
   "metadata": {},
   "source": [
    " #### Step 9  Model  8 logistic  L2  Backward "
   ]
  },
  {
   "cell_type": "code",
   "execution_count": 116,
   "metadata": {},
   "outputs": [
    {
     "data": {
      "image/png": "[encoded data removed]",
      "text/plain": [
       "<matplotlib.figure.Figure at 0x118ed67b8>"
      ]
     },
     "metadata": {},
     "output_type": "display_data"
    }
   ],
   "source": [
    "# make an empty list to hold train error, and one to hold test error\n",
    "trainer_back_L2 = list()\n",
    "valerr_back_L2 = list()\n",
    "\n",
    "# make an array of the number of features to sweep through\n",
    "feats = np.arange(1,17)\n",
    "\n",
    "# loop over the features, and fit the model each time\n",
    "# also calculate train and test error\n",
    "for f in feats:\n",
    "    rfe = RFE(estimator = Ridge(), n_features_to_select = f)\n",
    "    rfe.fit(X_train, y_train)\n",
    "    Xtrain_sel = X_train[:,rfe.support_]\n",
    "    Xvalidate_sel = X_test[:,rfe.support_]\n",
    "    \n",
    "    model_back_l2 = LogisticRegression(penalty = 'l2')\n",
    "\n",
    "    # Fitting the model \n",
    "    model_back_l2.fit(Xtrain_sel,y_train)\n",
    "\n",
    "# coefficient calculation and error calculation \n",
    "\n",
    "    #sf_model_l2 = np.sum(model_l2.coef_/max(model_l2.coef_) >= 1e-6)\n",
    "    v_error_l2 = np.mean(model_back_l2.predict(Xvalidate_sel) != y_test)\n",
    "    train_error_l2 = np.mean(model_back_l2.predict(Xtrain_sel) != y_train)\n",
    "    \n",
    "    \n",
    "    trainer_back_L2.append(train_error_l2)\n",
    "    valerr_back_L2.append(v_error_l2)\n",
    "      \n",
    "    \n",
    "       # plot validation loss\n",
    "plt.plot(np.arange(1,17), trainer_back_L2, label=\"train\")\n",
    "plt.plot(np.arange(1,17), valerr_back_L2, label=\"test\")\n",
    "plt.xlabel(\"feats\")\n",
    "plt.ylabel(\"error\")\n",
    "plt.legend()\n",
    "plt.show()"
   ]
  },
  {
   "cell_type": "code",
   "execution_count": 117,
   "metadata": {},
   "outputs": [
    {
     "data": {
      "text/html": [
       "<div>\n",
       "<style>\n",
       "    .dataframe thead tr:only-child th {\n",
       "        text-align: right;\n",
       "    }\n",
       "\n",
       "    .dataframe thead th {\n",
       "        text-align: left;\n",
       "    }\n",
       "\n",
       "    .dataframe tbody tr th {\n",
       "        vertical-align: top;\n",
       "    }\n",
       "</style>\n",
       "<table border=\"1\" class=\"dataframe\">\n",
       "  <thead>\n",
       "    <tr style=\"text-align: right;\">\n",
       "      <th></th>\n",
       "      <th>Features</th>\n",
       "      <th>Test Error</th>\n",
       "      <th>Train Error</th>\n",
       "    </tr>\n",
       "  </thead>\n",
       "  <tbody>\n",
       "    <tr>\n",
       "      <th>3</th>\n",
       "      <td>4</td>\n",
       "      <td>0.066667</td>\n",
       "      <td>0.074074</td>\n",
       "    </tr>\n",
       "    <tr>\n",
       "      <th>11</th>\n",
       "      <td>12</td>\n",
       "      <td>0.066667</td>\n",
       "      <td>0.061728</td>\n",
       "    </tr>\n",
       "    <tr>\n",
       "      <th>0</th>\n",
       "      <td>1</td>\n",
       "      <td>0.074074</td>\n",
       "      <td>0.088889</td>\n",
       "    </tr>\n",
       "    <tr>\n",
       "      <th>1</th>\n",
       "      <td>2</td>\n",
       "      <td>0.074074</td>\n",
       "      <td>0.088889</td>\n",
       "    </tr>\n",
       "    <tr>\n",
       "      <th>2</th>\n",
       "      <td>3</td>\n",
       "      <td>0.074074</td>\n",
       "      <td>0.086420</td>\n",
       "    </tr>\n",
       "  </tbody>\n",
       "</table>\n",
       "</div>"
      ],
      "text/plain": [
       "    Features  Test Error  Train Error\n",
       "3          4    0.066667     0.074074\n",
       "11        12    0.066667     0.061728\n",
       "0          1    0.074074     0.088889\n",
       "1          2    0.074074     0.088889\n",
       "2          3    0.074074     0.086420"
      ]
     },
     "execution_count": 117,
     "metadata": {},
     "output_type": "execute_result"
    }
   ],
   "source": [
    "# List \n",
    "list_backward_L2= {'Features':feats,'Train Error': trainer_back_L2,\"Test Error\":valerr_back_L2}\n",
    "list_backward_L2 = pd.DataFrame(list_backward_L2)\n",
    "list_backward_L2.sort_values(by='Test Error').head(5)"
   ]
  },
  {
   "cell_type": "markdown",
   "metadata": {},
   "source": [
    "### Step 10 Model 9 CV using L1 and L2 penealty"
   ]
  },
  {
   "cell_type": "code",
   "execution_count": 118,
   "metadata": {},
   "outputs": [
    {
     "data": {
      "text/html": [
       "<div>\n",
       "<style>\n",
       "    .dataframe thead tr:only-child th {\n",
       "        text-align: right;\n",
       "    }\n",
       "\n",
       "    .dataframe thead th {\n",
       "        text-align: left;\n",
       "    }\n",
       "\n",
       "    .dataframe tbody tr th {\n",
       "        vertical-align: top;\n",
       "    }\n",
       "</style>\n",
       "<table border=\"1\" class=\"dataframe\">\n",
       "  <thead>\n",
       "    <tr style=\"text-align: right;\">\n",
       "      <th></th>\n",
       "      <th>penalty</th>\n",
       "      <th>C</th>\n",
       "      <th>fit_intercept</th>\n",
       "      <th>mean_score</th>\n",
       "    </tr>\n",
       "  </thead>\n",
       "  <tbody>\n",
       "    <tr>\n",
       "      <th>50</th>\n",
       "      <td>l1</td>\n",
       "      <td>1.5</td>\n",
       "      <td>True</td>\n",
       "      <td>0.962996</td>\n",
       "    </tr>\n",
       "    <tr>\n",
       "      <th>54</th>\n",
       "      <td>l1</td>\n",
       "      <td>1.7</td>\n",
       "      <td>True</td>\n",
       "      <td>0.962996</td>\n",
       "    </tr>\n",
       "    <tr>\n",
       "      <th>72</th>\n",
       "      <td>l1</td>\n",
       "      <td>2.6</td>\n",
       "      <td>True</td>\n",
       "      <td>0.961144</td>\n",
       "    </tr>\n",
       "    <tr>\n",
       "      <th>78</th>\n",
       "      <td>l1</td>\n",
       "      <td>2.9</td>\n",
       "      <td>True</td>\n",
       "      <td>0.961144</td>\n",
       "    </tr>\n",
       "    <tr>\n",
       "      <th>52</th>\n",
       "      <td>l1</td>\n",
       "      <td>1.6</td>\n",
       "      <td>True</td>\n",
       "      <td>0.961144</td>\n",
       "    </tr>\n",
       "    <tr>\n",
       "      <th>76</th>\n",
       "      <td>l1</td>\n",
       "      <td>2.8</td>\n",
       "      <td>True</td>\n",
       "      <td>0.961144</td>\n",
       "    </tr>\n",
       "    <tr>\n",
       "      <th>74</th>\n",
       "      <td>l1</td>\n",
       "      <td>2.7</td>\n",
       "      <td>True</td>\n",
       "      <td>0.961144</td>\n",
       "    </tr>\n",
       "    <tr>\n",
       "      <th>70</th>\n",
       "      <td>l1</td>\n",
       "      <td>2.5</td>\n",
       "      <td>True</td>\n",
       "      <td>0.961144</td>\n",
       "    </tr>\n",
       "    <tr>\n",
       "      <th>56</th>\n",
       "      <td>l1</td>\n",
       "      <td>1.8</td>\n",
       "      <td>True</td>\n",
       "      <td>0.961144</td>\n",
       "    </tr>\n",
       "    <tr>\n",
       "      <th>48</th>\n",
       "      <td>l1</td>\n",
       "      <td>1.4</td>\n",
       "      <td>True</td>\n",
       "      <td>0.961127</td>\n",
       "    </tr>\n",
       "  </tbody>\n",
       "</table>\n",
       "</div>"
      ],
      "text/plain": [
       "   penalty    C fit_intercept  mean_score\n",
       "50      l1  1.5          True    0.962996\n",
       "54      l1  1.7          True    0.962996\n",
       "72      l1  2.6          True    0.961144\n",
       "78      l1  2.9          True    0.961144\n",
       "52      l1  1.6          True    0.961144\n",
       "76      l1  2.8          True    0.961144\n",
       "74      l1  2.7          True    0.961144\n",
       "70      l1  2.5          True    0.961144\n",
       "56      l1  1.8          True    0.961144\n",
       "48      l1  1.4          True    0.961127"
      ]
     },
     "execution_count": 118,
     "metadata": {},
     "output_type": "execute_result"
    }
   ],
   "source": [
    "penalty = ['l2','l1']\n",
    "C = np.arange(1,3,0.1)\n",
    "fit_intercept = [True,False]\n",
    "results = pd.DataFrame(columns=['penalty','C','fit_intercept','mean_score'])\n",
    "\n",
    "for p in penalty:\n",
    "    for c in C:\n",
    "        for f in fit_intercept:\n",
    "            reg = LogisticRegression(penalty=p,C=c,fit_intercept=f)\n",
    "            scores = cross_val_score(reg,X,y,cv=5)\n",
    "            results = results.append({'penalty':p,'C':c,'fit_intercept':f,'mean_score':scores.mean()},ignore_index=True)\n",
    "    \n",
    "results.sort_values(by='mean_score',ascending=False).head(10)"
   ]
  },
  {
   "cell_type": "markdown",
   "metadata": {},
   "source": [
    "####  Just for fun K-nearest neighbors"
   ]
  },
  {
   "cell_type": "code",
   "execution_count": 119,
   "metadata": {},
   "outputs": [
    {
     "data": {
      "text/html": [
       "<div>\n",
       "<style>\n",
       "    .dataframe thead tr:only-child th {\n",
       "        text-align: right;\n",
       "    }\n",
       "\n",
       "    .dataframe thead th {\n",
       "        text-align: left;\n",
       "    }\n",
       "\n",
       "    .dataframe tbody tr th {\n",
       "        vertical-align: top;\n",
       "    }\n",
       "</style>\n",
       "<table border=\"1\" class=\"dataframe\">\n",
       "  <thead>\n",
       "    <tr style=\"text-align: right;\">\n",
       "      <th></th>\n",
       "      <th>n_neighbors</th>\n",
       "      <th>mean_score</th>\n",
       "    </tr>\n",
       "  </thead>\n",
       "  <tbody>\n",
       "    <tr>\n",
       "      <th>9</th>\n",
       "      <td>10.0</td>\n",
       "      <td>0.914829</td>\n",
       "    </tr>\n",
       "    <tr>\n",
       "      <th>10</th>\n",
       "      <td>11.0</td>\n",
       "      <td>0.914829</td>\n",
       "    </tr>\n",
       "    <tr>\n",
       "      <th>17</th>\n",
       "      <td>18.0</td>\n",
       "      <td>0.914829</td>\n",
       "    </tr>\n",
       "    <tr>\n",
       "      <th>16</th>\n",
       "      <td>17.0</td>\n",
       "      <td>0.914829</td>\n",
       "    </tr>\n",
       "    <tr>\n",
       "      <th>15</th>\n",
       "      <td>16.0</td>\n",
       "      <td>0.914829</td>\n",
       "    </tr>\n",
       "  </tbody>\n",
       "</table>\n",
       "</div>"
      ],
      "text/plain": [
       "    n_neighbors  mean_score\n",
       "9          10.0    0.914829\n",
       "10         11.0    0.914829\n",
       "17         18.0    0.914829\n",
       "16         17.0    0.914829\n",
       "15         16.0    0.914829"
      ]
     },
     "execution_count": 119,
     "metadata": {},
     "output_type": "execute_result"
    }
   ],
   "source": [
    "n_neighbors = range(1,20)\n",
    "results = pd.DataFrame(columns=['n_neighbors','mean_score'])\n",
    "\n",
    "for n in n_neighbors:\n",
    "    clf = KNC(n_neighbors=n)\n",
    "    scores = cross_val_score(clf,X,y,cv=5)\n",
    "    results = results.append({'n_neighbors':n,'mean_score':scores.mean()},ignore_index=True)\n",
    "    \n",
    "results.sort_values(by='mean_score',ascending=False).head(5)"
   ]
  },
  {
   "cell_type": "code",
   "execution_count": null,
   "metadata": {
    "collapsed": true
   },
   "outputs": [],
   "source": [
    "# .cient of model which are not zero are selected ....print out the coefficient and check values \n",
    "\n",
    "# which features are good to predict \n",
    "\n",
    "# binary ...how balance is your data ...and talk about that \n",
    "\n",
    "# visualizatiob on bar graph "
   ]
  },
  {
   "cell_type": "code",
   "execution_count": 156,
   "metadata": {},
   "outputs": [
    {
     "data": {
      "text/plain": [
       "'/Users/prash/UBC-17/block4/573-FM/climate_analysis'"
      ]
     },
     "execution_count": 156,
     "metadata": {},
     "output_type": "execute_result"
    }
   ],
   "source": [
    "pwd"
   ]
  },
  {
   "cell_type": "code",
   "execution_count": null,
   "metadata": {
    "collapsed": true
   },
   "outputs": [],
   "source": []
  }
 ],
 "metadata": {
  "kernelspec": {
   "display_name": "Python 3",
   "language": "python",
   "name": "python3"
  },
  "language_info": {
   "codemirror_mode": {
    "name": "ipython",
    "version": 3
   },
   "file_extension": ".py",
   "mimetype": "text/x-python",
   "name": "python",
   "nbconvert_exporter": "python",
   "pygments_lexer": "ipython3",
   "version": "3.6.3"
  }
 },
 "nbformat": 4,
 "nbformat_minor": 2
}
